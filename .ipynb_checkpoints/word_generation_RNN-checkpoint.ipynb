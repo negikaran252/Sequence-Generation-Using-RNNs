{
 "cells": [
  {
   "cell_type": "markdown",
   "metadata": {
    "id": "wDg5WTkyJNzV"
   },
   "source": [
    "### 1. Importing Libraries"
   ]
  },
  {
   "cell_type": "code",
   "execution_count": 30,
   "metadata": {
    "id": "tjlny2EbJRdF"
   },
   "outputs": [],
   "source": [
    "import tensorflow as tf\n",
    "import string\n",
    "import requests\n",
    "import numpy as np\n",
    "from tensorflow.keras.preprocessing.text import Tokenizer\n",
    "from tensorflow.keras.utils import to_categorical\n",
    "from tensorflow.keras.preprocessing.sequence import pad_sequences\n",
    "from tensorflow import keras\n",
    "from keras.models import Sequential\n",
    "from keras.layers import Dense, Flatten\n",
    "from keras.layers import LSTM\n",
    "from keras.layers import SimpleRNN\n",
    "from keras.layers import Embedding\n",
    "import matplotlib.pyplot as plt"
   ]
  },
  {
   "cell_type": "markdown",
   "metadata": {
    "id": "d5zmTkPFJdR1"
   },
   "source": [
    "### 2. Loading data"
   ]
  },
  {
   "cell_type": "code",
   "execution_count": 31,
   "metadata": {
    "id": "UD-LMQPqIXlL"
   },
   "outputs": [],
   "source": [
    "train_text = open('ptb.train.txt', 'rb').read().lower()"
   ]
  },
  {
   "cell_type": "code",
   "execution_count": 32,
   "metadata": {
    "id": "U08DdJk8JgXS"
   },
   "outputs": [],
   "source": [
    "def clean_text(text):\n",
    "  text=text.decode(encoding='utf-8')\n",
    "  text=text.replace('\\n', '')\n",
    "  text=text.replace('<unk>', '')\n",
    "  text_in_words = [w for w in text.split(' ') if w.strip() != '' or w == '\\n']\n",
    "  return text_in_words"
   ]
  },
  {
   "cell_type": "code",
   "execution_count": 33,
   "metadata": {
    "colab": {
     "base_uri": "https://localhost:8080/"
    },
    "id": "xrkjE30S8-uX",
    "outputId": "688f3529-a455-49d5-d269-2d3bd80b8bb2"
   },
   "outputs": [
    {
     "data": {
      "text/plain": [
       "5101618"
      ]
     },
     "execution_count": 33,
     "metadata": {},
     "output_type": "execute_result"
    }
   ],
   "source": [
    "len(train_text)"
   ]
  },
  {
   "cell_type": "code",
   "execution_count": 34,
   "metadata": {
    "id": "mIadP8h5KTvw"
   },
   "outputs": [],
   "source": [
    "vec_train=clean_text(train_text[:1001618])"
   ]
  },
  {
   "cell_type": "code",
   "execution_count": 35,
   "metadata": {
    "id": "wrlEb0uEKnej"
   },
   "outputs": [],
   "source": [
    "# vec_train[:30]\n",
    "# len(set(vec_train))"
   ]
  },
  {
   "cell_type": "code",
   "execution_count": 36,
   "metadata": {
    "id": "Ea53Ich1K3Xb"
   },
   "outputs": [],
   "source": [
    "length=5\n",
    "lines=[]\n",
    "for i in range(length,len(vec_train)):\n",
    "  seq=vec_train[i-length:i]\n",
    "  line=' '.join(seq)\n",
    "  lines.append(line)"
   ]
  },
  {
   "cell_type": "code",
   "execution_count": 37,
   "metadata": {
    "colab": {
     "base_uri": "https://localhost:8080/"
    },
    "id": "_Lt6K-UfMc7B",
    "outputId": "6f57fef5-c8d8-4d4b-d8c9-751418de8926"
   },
   "outputs": [
    {
     "name": "stdout",
     "output_type": "stream",
     "text": [
      "164397\n"
     ]
    }
   ],
   "source": [
    "print(len(lines))"
   ]
  },
  {
   "cell_type": "markdown",
   "metadata": {
    "id": "dKYBYbUWNHWp"
   },
   "source": [
    "### 3. Prepare Input and Output"
   ]
  },
  {
   "cell_type": "code",
   "execution_count": 38,
   "metadata": {
    "id": "JyO4VIOWM2Fb"
   },
   "outputs": [],
   "source": [
    "tokenizer=Tokenizer()\n",
    "tokenizer.fit_on_texts(lines)\n",
    "sequences=tokenizer.texts_to_sequences(lines)"
   ]
  },
  {
   "cell_type": "code",
   "execution_count": 39,
   "metadata": {
    "id": "gg5VSSlSdZp2"
   },
   "outputs": [],
   "source": [
    "# sequences"
   ]
  },
  {
   "cell_type": "code",
   "execution_count": 40,
   "metadata": {
    "colab": {
     "base_uri": "https://localhost:8080/"
    },
    "id": "F_RfknDAckip",
    "outputId": "96d9a9db-7fc1-4394-b2af-9a493a0445e1"
   },
   "outputs": [
    {
     "name": "stderr",
     "output_type": "stream",
     "text": [
      "/usr/local/lib/python3.7/dist-packages/numpy/lib/function_base.py:4454: VisibleDeprecationWarning: Creating an ndarray from ragged nested sequences (which is a list-or-tuple of lists-or-tuples-or ndarrays with different lengths or shapes) is deprecated. If you meant to do this, you must specify 'dtype=object' when creating the ndarray.\n",
      "  arr = asarray(arr)\n"
     ]
    }
   ],
   "source": [
    "l = []\n",
    "for i in range(len(sequences)):\n",
    "  if len(sequences[i]) < 5:\n",
    "    l.append(i)\n",
    "    \n",
    "sequences = np.delete(sequences, l, axis=0)"
   ]
  },
  {
   "cell_type": "code",
   "execution_count": 41,
   "metadata": {
    "colab": {
     "base_uri": "https://localhost:8080/"
    },
    "id": "x3R8lGwjU-Ho",
    "outputId": "9a050f46-7818-4699-cc46-5da8840f3537"
   },
   "outputs": [
    {
     "data": {
      "text/plain": [
       "157166"
      ]
     },
     "execution_count": 41,
     "metadata": {},
     "output_type": "execute_result"
    }
   ],
   "source": [
    "len(sequences)\n"
   ]
  },
  {
   "cell_type": "code",
   "execution_count": 42,
   "metadata": {
    "id": "hR3PDbwGWwSq"
   },
   "outputs": [],
   "source": [
    "sequences = np.array(sequences)"
   ]
  },
  {
   "cell_type": "code",
   "execution_count": 43,
   "metadata": {
    "colab": {
     "base_uri": "https://localhost:8080/"
    },
    "id": "MAr7kwLEPGfv",
    "outputId": "8e2bd6ce-d8fb-4c5d-f15c-73ab31715a13"
   },
   "outputs": [
    {
     "data": {
      "text/plain": [
       "(157166,)"
      ]
     },
     "execution_count": 43,
     "metadata": {},
     "output_type": "execute_result"
    }
   ],
   "source": [
    "sequences.shape\n"
   ]
  },
  {
   "cell_type": "code",
   "execution_count": 44,
   "metadata": {
    "id": "xrklJV30R-y1"
   },
   "outputs": [],
   "source": [
    "X = []\n",
    "y = []\n",
    "for i in range(sequences.shape[0]):\n",
    "    X.append(np.array(sequences[i][:4]))\n",
    "    y.append(np.array(sequences[i][4:5][0]))\n",
    "X = np.array(X)\n",
    "y = np.array(y)\n",
    "# print(X,y)"
   ]
  },
  {
   "cell_type": "code",
   "execution_count": 45,
   "metadata": {
    "colab": {
     "base_uri": "https://localhost:8080/"
    },
    "id": "aHRaEbNEaoho",
    "outputId": "82c251fd-1180-4d80-e4f9-b099e5b36295"
   },
   "outputs": [
    {
     "data": {
      "text/plain": [
       "array([6549, 6550, 6551, ...,   15,  129, 2544])"
      ]
     },
     "execution_count": 45,
     "metadata": {},
     "output_type": "execute_result"
    }
   ],
   "source": [
    "y"
   ]
  },
  {
   "cell_type": "code",
   "execution_count": 46,
   "metadata": {
    "id": "bTVqnMVkPOke"
   },
   "outputs": [],
   "source": [
    "# l = 0\n",
    "# for i in range(len(sequences)):\n",
    "#   if len(sequences[i]) > 5:\n",
    "#     l+=1\n",
    "# l"
   ]
  },
  {
   "cell_type": "code",
   "execution_count": 47,
   "metadata": {
    "id": "92a1h9gqQxbn"
   },
   "outputs": [],
   "source": [
    "vocab_size=len(tokenizer.word_index)+1"
   ]
  },
  {
   "cell_type": "code",
   "execution_count": 48,
   "metadata": {
    "colab": {
     "base_uri": "https://localhost:8080/"
    },
    "id": "B_zaHHZ-9cDI",
    "outputId": "3ee5aeb8-89c5-4af1-9bad-cfb404897a78"
   },
   "outputs": [
    {
     "data": {
      "text/plain": [
       "8076"
      ]
     },
     "execution_count": 48,
     "metadata": {},
     "output_type": "execute_result"
    }
   ],
   "source": [
    "vocab_size"
   ]
  },
  {
   "cell_type": "code",
   "execution_count": 49,
   "metadata": {
    "id": "8pEGBGjlqDzE"
   },
   "outputs": [],
   "source": [
    "y=to_categorical(y,num_classes=vocab_size)"
   ]
  },
  {
   "cell_type": "code",
   "execution_count": 50,
   "metadata": {
    "id": "yRDAlJEeqE1b"
   },
   "outputs": [],
   "source": [
    "seq_length=X.shape[1]"
   ]
  },
  {
   "cell_type": "markdown",
   "metadata": {
    "id": "zEPPok2cqg9v"
   },
   "source": [
    "### 4.Simple RNN Model"
   ]
  },
  {
   "cell_type": "code",
   "execution_count": 51,
   "metadata": {
    "id": "795OunytqZbc"
   },
   "outputs": [],
   "source": [
    "model=Sequential()\n",
    "model.add(Embedding(vocab_size,4,input_length=seq_length))\n",
    "model.add(SimpleRNN(500))\n",
    "model.add(Dense(vocab_size,activation='softmax'))"
   ]
  },
  {
   "cell_type": "code",
   "execution_count": 52,
   "metadata": {
    "colab": {
     "base_uri": "https://localhost:8080/"
    },
    "id": "6i2HETLhrR37",
    "outputId": "b1ee2864-7800-4646-ef03-c5e9d61f4310"
   },
   "outputs": [
    {
     "name": "stdout",
     "output_type": "stream",
     "text": [
      "Model: \"sequential_1\"\n",
      "_________________________________________________________________\n",
      " Layer (type)                Output Shape              Param #   \n",
      "=================================================================\n",
      " embedding_1 (Embedding)     (None, 4, 4)              32304     \n",
      "                                                                 \n",
      " simple_rnn_1 (SimpleRNN)    (None, 500)               252500    \n",
      "                                                                 \n",
      " dense_1 (Dense)             (None, 8076)              4046076   \n",
      "                                                                 \n",
      "=================================================================\n",
      "Total params: 4,330,880\n",
      "Trainable params: 4,330,880\n",
      "Non-trainable params: 0\n",
      "_________________________________________________________________\n"
     ]
    }
   ],
   "source": [
    "model.summary()"
   ]
  },
  {
   "cell_type": "code",
   "execution_count": 53,
   "metadata": {
    "id": "aJRV-aDOrT1d"
   },
   "outputs": [],
   "source": [
    "model.compile(loss='categorical_crossentropy',optimizer=\"adam\",metrics=['accuracy'])"
   ]
  },
  {
   "cell_type": "code",
   "execution_count": 54,
   "metadata": {
    "colab": {
     "base_uri": "https://localhost:8080/"
    },
    "id": "6VvarIJQraxm",
    "outputId": "d26b74ca-c09c-4962-e0f6-0a5a8c9778b7"
   },
   "outputs": [
    {
     "name": "stdout",
     "output_type": "stream",
     "text": [
      "Epoch 1/10\n",
      "430/430 [==============================] - 9s 19ms/step - loss: 6.9925 - accuracy: 0.0641 - val_loss: 6.9037 - val_accuracy: 0.0657\n",
      "Epoch 2/10\n",
      "430/430 [==============================] - 7s 17ms/step - loss: 6.6835 - accuracy: 0.0756 - val_loss: 6.8373 - val_accuracy: 0.0772\n",
      "Epoch 3/10\n",
      "430/430 [==============================] - 7s 17ms/step - loss: 6.4790 - accuracy: 0.0856 - val_loss: 6.6952 - val_accuracy: 0.0879\n",
      "Epoch 4/10\n",
      "430/430 [==============================] - 7s 17ms/step - loss: 6.2518 - accuracy: 0.0977 - val_loss: 6.5991 - val_accuracy: 0.0965\n",
      "Epoch 5/10\n",
      "430/430 [==============================] - 7s 17ms/step - loss: 6.0484 - accuracy: 0.1060 - val_loss: 6.5873 - val_accuracy: 0.1005\n",
      "Epoch 6/10\n",
      "430/430 [==============================] - 8s 19ms/step - loss: 5.8864 - accuracy: 0.1126 - val_loss: 6.6351 - val_accuracy: 0.1033\n",
      "Epoch 7/10\n",
      "430/430 [==============================] - 7s 16ms/step - loss: 5.7432 - accuracy: 0.1170 - val_loss: 6.6922 - val_accuracy: 0.1051\n",
      "Epoch 8/10\n",
      "430/430 [==============================] - 7s 17ms/step - loss: 5.6050 - accuracy: 0.1218 - val_loss: 6.7603 - val_accuracy: 0.1064\n",
      "Epoch 9/10\n",
      "430/430 [==============================] - 7s 17ms/step - loss: 5.4571 - accuracy: 0.1274 - val_loss: 6.8573 - val_accuracy: 0.1078\n",
      "Epoch 10/10\n",
      "430/430 [==============================] - 7s 17ms/step - loss: 5.3018 - accuracy: 0.1323 - val_loss: 6.9339 - val_accuracy: 0.1067\n"
     ]
    }
   ],
   "source": [
    "history=model.fit(X,y,batch_size=256,epochs=10,validation_split=0.3)"
   ]
  },
  {
   "cell_type": "code",
   "execution_count": 55,
   "metadata": {
    "colab": {
     "base_uri": "https://localhost:8080/",
     "height": 295
    },
    "id": "LQW4UZ4VxOQc",
    "outputId": "f8ccfeed-c4e1-4d41-e58e-291d5795fd35"
   },
   "outputs": [
    {
     "data": {
      "image/png": "[encoded data removed]",
      "text/plain": [
       "<Figure size 432x288 with 1 Axes>"
      ]
     },
     "metadata": {
      "needs_background": "light"
     },
     "output_type": "display_data"
    }
   ],
   "source": [
    "accuracy = history.history['val_accuracy']\n",
    "epochs = range(1,11)\n",
    "plt.plot(epochs, accuracy)\n",
    "plt.title('Val_Accuracy vs Epochs')\n",
    "plt.xlabel('Epochs')\n",
    "plt.ylabel('Val_Accuracy')\n",
    "plt.show()"
   ]
  },
  {
   "cell_type": "code",
   "execution_count": 56,
   "metadata": {
    "id": "x4bOlLyjrnRm"
   },
   "outputs": [],
   "source": [
    "def generate_text_sequence(input_text,num):\n",
    "  ans_text=[]\n",
    "  for i in range(num):\n",
    "    encoded=tokenizer.texts_to_sequences([input_text])[0]\n",
    "    encoded=pad_sequences([encoded],maxlen=seq_length,truncating='pre')\n",
    "    y_pred=np.argmax(model.predict(encoded))\n",
    "    pred_word=''\n",
    "    for word,index in tokenizer.word_index.items():\n",
    "      if index==y_pred:\n",
    "        pred_word=word\n",
    "        break\n",
    "    input_text=input_text+' '+pred_word\n",
    "    ans_text.append(pred_word)\n",
    "  return ' '.join(ans_text)"
   ]
  },
  {
   "cell_type": "code",
   "execution_count": 57,
   "metadata": {
    "id": "JjHBu7ffvG3W"
   },
   "outputs": [],
   "source": [
    "generated_text=generate_text_sequence(\"I love\",10)"
   ]
  },
  {
   "cell_type": "code",
   "execution_count": 58,
   "metadata": {
    "colab": {
     "base_uri": "https://localhost:8080/"
    },
    "id": "_mbYsVNzvYa8",
    "outputId": "1f378b71-b513-4971-b73a-a0ca2e8a562a"
   },
   "outputs": [
    {
     "name": "stdout",
     "output_type": "stream",
     "text": [
      "seed text: I love\n",
      "Text generated using Simple RNN:\n",
      "the teacher he was be inserted to the way to\n"
     ]
    }
   ],
   "source": [
    "print(\"seed text:\",\"I love\")\n",
    "print(\"Text generated using Simple RNN:\")\n",
    "print(generated_text)"
   ]
  }
 ],
 "metadata": {
  "accelerator": "GPU",
  "colab": {
   "collapsed_sections": [],
   "name": "word_generation_RNN.ipynb",
   "provenance": []
  },
  "kernelspec": {
   "display_name": "Python 3 (ipykernel)",
   "language": "python",
   "name": "python3"
  },
  "language_info": {
   "codemirror_mode": {
    "name": "ipython",
    "version": 3
   },
   "file_extension": ".py",
   "mimetype": "text/x-python",
   "name": "python",
   "nbconvert_exporter": "python",
   "pygments_lexer": "ipython3",
   "version": "3.8.10"
  }
 },
 "nbformat": 4,
 "nbformat_minor": 1
}

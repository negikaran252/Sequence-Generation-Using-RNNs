{
 "cells": [
  {
   "cell_type": "markdown",
   "metadata": {
    "id": "wDg5WTkyJNzV"
   },
   "source": [
    "### 1. Importing Libraries"
   ]
  },
  {
   "cell_type": "code",
   "execution_count": 1,
   "metadata": {
    "id": "tjlny2EbJRdF"
   },
   "outputs": [],
   "source": [
    "import tensorflow as tf\n",
    "import string\n",
    "import requests\n",
    "import numpy as np\n",
    "from tensorflow.keras.preprocessing.text import Tokenizer\n",
    "from tensorflow.keras.utils import to_categorical\n",
    "from tensorflow.keras.preprocessing.sequence import pad_sequences\n",
    "from tensorflow import keras\n",
    "from keras.models import Sequential\n",
    "from keras.layers import Dense, Flatten,Dropout,GaussianNoise,Embedding,LSTM\n",
    "import matplotlib.pyplot as plt"
   ]
  },
  {
   "cell_type": "markdown",
   "metadata": {
    "id": "d5zmTkPFJdR1"
   },
   "source": [
    "### 2. Loading data"
   ]
  },
  {
   "cell_type": "code",
   "execution_count": 2,
   "metadata": {
    "id": "UD-LMQPqIXlL"
   },
   "outputs": [],
   "source": [
    "train_text = open('ptb.train.txt', 'rb').read().lower()"
   ]
  },
  {
   "cell_type": "code",
   "execution_count": 3,
   "metadata": {
    "id": "U08DdJk8JgXS"
   },
   "outputs": [],
   "source": [
    "def clean_text(text):\n",
    "  text=text.decode(encoding='utf-8')\n",
    "  text=text.replace('\\n', '')\n",
    "  text=text.replace('<unk>', '')\n",
    "  text_in_words = [w for w in text.split(' ') if w.strip() != '' or w == '\\n']\n",
    "  return text_in_words"
   ]
  },
  {
   "cell_type": "code",
   "execution_count": 4,
   "metadata": {
    "colab": {
     "base_uri": "https://localhost:8080/"
    },
    "id": "xrkjE30S8-uX",
    "outputId": "722f291c-bf00-4288-8377-bff9fef79b7c"
   },
   "outputs": [
    {
     "data": {
      "text/plain": [
       "5101618"
      ]
     },
     "execution_count": 4,
     "metadata": {},
     "output_type": "execute_result"
    }
   ],
   "source": [
    "len(train_text)"
   ]
  },
  {
   "cell_type": "code",
   "execution_count": 5,
   "metadata": {
    "id": "mIadP8h5KTvw"
   },
   "outputs": [],
   "source": [
    "vec_train=clean_text(train_text[:601618])"
   ]
  },
  {
   "cell_type": "code",
   "execution_count": 6,
   "metadata": {
    "id": "wrlEb0uEKnej"
   },
   "outputs": [],
   "source": [
    "# vec_train[:30]\n",
    "# len(set(vec_train))"
   ]
  },
  {
   "cell_type": "code",
   "execution_count": 7,
   "metadata": {
    "id": "Ea53Ich1K3Xb"
   },
   "outputs": [],
   "source": [
    "length=5\n",
    "lines=[]\n",
    "for i in range(length,len(vec_train)):\n",
    "  seq=vec_train[i-length:i]\n",
    "  line=' '.join(seq)\n",
    "  lines.append(line)"
   ]
  },
  {
   "cell_type": "code",
   "execution_count": 8,
   "metadata": {
    "colab": {
     "base_uri": "https://localhost:8080/"
    },
    "id": "_Lt6K-UfMc7B",
    "outputId": "f6737c67-97c7-4e90-f52d-8e9bc4407341"
   },
   "outputs": [
    {
     "name": "stdout",
     "output_type": "stream",
     "text": [
      "98863\n"
     ]
    }
   ],
   "source": [
    "print(len(lines))"
   ]
  },
  {
   "cell_type": "markdown",
   "metadata": {
    "id": "dKYBYbUWNHWp"
   },
   "source": [
    "### 3. Prepare Input and Output"
   ]
  },
  {
   "cell_type": "code",
   "execution_count": 9,
   "metadata": {
    "id": "JyO4VIOWM2Fb"
   },
   "outputs": [],
   "source": [
    "tokenizer=Tokenizer()\n",
    "tokenizer.fit_on_texts(lines)\n",
    "sequences=tokenizer.texts_to_sequences(lines)"
   ]
  },
  {
   "cell_type": "code",
   "execution_count": 10,
   "metadata": {
    "id": "gg5VSSlSdZp2"
   },
   "outputs": [],
   "source": [
    "# sequences"
   ]
  },
  {
   "cell_type": "code",
   "execution_count": 11,
   "metadata": {
    "colab": {
     "base_uri": "https://localhost:8080/"
    },
    "id": "F_RfknDAckip",
    "outputId": "367f5216-5c2f-4ff4-c209-37b9ba8042b5"
   },
   "outputs": [
    {
     "name": "stderr",
     "output_type": "stream",
     "text": [
      "/usr/local/lib/python3.7/dist-packages/numpy/lib/function_base.py:4454: VisibleDeprecationWarning: Creating an ndarray from ragged nested sequences (which is a list-or-tuple of lists-or-tuples-or ndarrays with different lengths or shapes) is deprecated. If you meant to do this, you must specify 'dtype=object' when creating the ndarray.\n",
      "  arr = asarray(arr)\n"
     ]
    }
   ],
   "source": [
    "l = []\n",
    "for i in range(len(sequences)):\n",
    "  if len(sequences[i]) < 5:\n",
    "    l.append(i)\n",
    "    \n",
    "sequences = np.delete(sequences, l, axis=0)"
   ]
  },
  {
   "cell_type": "code",
   "execution_count": 12,
   "metadata": {
    "colab": {
     "base_uri": "https://localhost:8080/"
    },
    "id": "x3R8lGwjU-Ho",
    "outputId": "940110c1-ea3a-4f41-f565-b024f2cf383a"
   },
   "outputs": [
    {
     "data": {
      "text/plain": [
       "94667"
      ]
     },
     "execution_count": 12,
     "metadata": {},
     "output_type": "execute_result"
    }
   ],
   "source": [
    "len(sequences)\n"
   ]
  },
  {
   "cell_type": "code",
   "execution_count": 13,
   "metadata": {
    "id": "hR3PDbwGWwSq"
   },
   "outputs": [],
   "source": [
    "sequences = np.array(sequences)"
   ]
  },
  {
   "cell_type": "code",
   "execution_count": 14,
   "metadata": {
    "colab": {
     "base_uri": "https://localhost:8080/"
    },
    "id": "MAr7kwLEPGfv",
    "outputId": "410780c6-869f-43a6-ab75-9b8bc38d9171"
   },
   "outputs": [
    {
     "data": {
      "text/plain": [
       "(94667,)"
      ]
     },
     "execution_count": 14,
     "metadata": {},
     "output_type": "execute_result"
    }
   ],
   "source": [
    "sequences.shape\n"
   ]
  },
  {
   "cell_type": "code",
   "execution_count": 15,
   "metadata": {
    "id": "xrklJV30R-y1"
   },
   "outputs": [],
   "source": [
    "X = []\n",
    "y = []\n",
    "for i in range(sequences.shape[0]):\n",
    "    X.append(np.array(sequences[i][:4]))\n",
    "    y.append(np.array(sequences[i][4:5][0]))\n",
    "X = np.array(X)\n",
    "y = np.array(y)\n",
    "# print(X,y)"
   ]
  },
  {
   "cell_type": "code",
   "execution_count": 16,
   "metadata": {
    "colab": {
     "base_uri": "https://localhost:8080/"
    },
    "id": "aHRaEbNEaoho",
    "outputId": "59ea73ab-20b6-4bd1-cfa7-73d8a7e9ad4d"
   },
   "outputs": [
    {
     "data": {
      "text/plain": [
       "array([5100, 5101, 5102, ...,    3, 1102,    5])"
      ]
     },
     "execution_count": 16,
     "metadata": {},
     "output_type": "execute_result"
    }
   ],
   "source": [
    "y"
   ]
  },
  {
   "cell_type": "code",
   "execution_count": 17,
   "metadata": {
    "id": "bTVqnMVkPOke"
   },
   "outputs": [],
   "source": [
    "# l = 0\n",
    "# for i in range(len(sequences)):\n",
    "#   if len(sequences[i]) > 5:\n",
    "#     l+=1\n",
    "# l"
   ]
  },
  {
   "cell_type": "code",
   "execution_count": 18,
   "metadata": {
    "id": "92a1h9gqQxbn"
   },
   "outputs": [],
   "source": [
    "vocab_size=len(tokenizer.word_index)+1"
   ]
  },
  {
   "cell_type": "code",
   "execution_count": 19,
   "metadata": {
    "colab": {
     "base_uri": "https://localhost:8080/"
    },
    "id": "B_zaHHZ-9cDI",
    "outputId": "d6b853f2-c9d8-47c2-e6e4-39b78c331973"
   },
   "outputs": [
    {
     "data": {
      "text/plain": [
       "6958"
      ]
     },
     "execution_count": 19,
     "metadata": {},
     "output_type": "execute_result"
    }
   ],
   "source": [
    "vocab_size"
   ]
  },
  {
   "cell_type": "code",
   "execution_count": 20,
   "metadata": {
    "id": "8pEGBGjlqDzE"
   },
   "outputs": [],
   "source": [
    "y=to_categorical(y,num_classes=vocab_size)"
   ]
  },
  {
   "cell_type": "code",
   "execution_count": 21,
   "metadata": {
    "id": "yRDAlJEeqE1b"
   },
   "outputs": [],
   "source": [
    "seq_length=X.shape[1]"
   ]
  },
  {
   "cell_type": "markdown",
   "metadata": {
    "id": "zEPPok2cqg9v"
   },
   "source": [
    "### 4.Single layer LSTM Model"
   ]
  },
  {
   "cell_type": "code",
   "execution_count": 22,
   "metadata": {
    "id": "795OunytqZbc"
   },
   "outputs": [],
   "source": [
    "lstm_model=Sequential()\n",
    "lstm_model.add(Embedding(vocab_size,100,input_length=seq_length))\n",
    "# lstm_model.add(Flatten())\n",
    "lstm_model.add(LSTM(1000))\n",
    "# lstm_model.add(Dense(128,activation='relu'))\n",
    "lstm_model.add(Dense(vocab_size,activation='softmax'))"
   ]
  },
  {
   "cell_type": "code",
   "execution_count": 23,
   "metadata": {
    "colab": {
     "base_uri": "https://localhost:8080/"
    },
    "id": "6i2HETLhrR37",
    "outputId": "2afea518-d57b-49dd-aaba-eebf41adc494"
   },
   "outputs": [
    {
     "name": "stdout",
     "output_type": "stream",
     "text": [
      "Model: \"sequential\"\n",
      "_________________________________________________________________\n",
      " Layer (type)                Output Shape              Param #   \n",
      "=================================================================\n",
      " embedding (Embedding)       (None, 4, 100)            695800    \n",
      "                                                                 \n",
      " lstm (LSTM)                 (None, 1000)              4404000   \n",
      "                                                                 \n",
      " dense (Dense)               (None, 6958)              6964958   \n",
      "                                                                 \n",
      "=================================================================\n",
      "Total params: 12,064,758\n",
      "Trainable params: 12,064,758\n",
      "Non-trainable params: 0\n",
      "_________________________________________________________________\n"
     ]
    }
   ],
   "source": [
    "lstm_model.summary()"
   ]
  },
  {
   "cell_type": "code",
   "execution_count": 24,
   "metadata": {
    "id": "aJRV-aDOrT1d"
   },
   "outputs": [],
   "source": [
    "lstm_model.compile(loss='categorical_crossentropy',optimizer='adam',metrics=['accuracy'])"
   ]
  },
  {
   "cell_type": "code",
   "execution_count": 25,
   "metadata": {
    "colab": {
     "base_uri": "https://localhost:8080/"
    },
    "id": "6VvarIJQraxm",
    "outputId": "05b53d7f-1d29-4192-875c-48ba7698323e"
   },
   "outputs": [
    {
     "name": "stdout",
     "output_type": "stream",
     "text": [
      "Epoch 1/10\n",
      "2071/2071 [==============================] - 58s 27ms/step - loss: 6.7787 - accuracy: 0.0774 - val_loss: 6.6000 - val_accuracy: 0.1049\n",
      "Epoch 2/10\n",
      "2071/2071 [==============================] - 53s 26ms/step - loss: 6.0556 - accuracy: 0.1201 - val_loss: 6.4466 - val_accuracy: 0.1255\n",
      "Epoch 3/10\n",
      "2071/2071 [==============================] - 53s 25ms/step - loss: 5.5474 - accuracy: 0.1456 - val_loss: 6.4714 - val_accuracy: 0.1364\n",
      "Epoch 4/10\n",
      "2071/2071 [==============================] - 52s 25ms/step - loss: 4.9639 - accuracy: 0.1758 - val_loss: 6.7311 - val_accuracy: 0.1407\n",
      "Epoch 5/10\n",
      "2071/2071 [==============================] - 53s 25ms/step - loss: 4.2204 - accuracy: 0.2196 - val_loss: 7.0667 - val_accuracy: 0.1371\n",
      "Epoch 6/10\n",
      "2071/2071 [==============================] - 53s 26ms/step - loss: 3.3192 - accuracy: 0.3201 - val_loss: 7.5124 - val_accuracy: 0.1295\n",
      "Epoch 7/10\n",
      "2071/2071 [==============================] - 53s 25ms/step - loss: 2.4038 - accuracy: 0.4745 - val_loss: 8.0548 - val_accuracy: 0.1224\n",
      "Epoch 8/10\n",
      "2071/2071 [==============================] - 52s 25ms/step - loss: 1.6052 - accuracy: 0.6369 - val_loss: 8.5192 - val_accuracy: 0.1205\n",
      "Epoch 9/10\n",
      "2071/2071 [==============================] - 53s 25ms/step - loss: 0.9951 - accuracy: 0.7797 - val_loss: 8.9984 - val_accuracy: 0.1164\n",
      "Epoch 10/10\n",
      "2071/2071 [==============================] - 53s 25ms/step - loss: 0.5998 - accuracy: 0.8767 - val_loss: 9.3454 - val_accuracy: 0.1156\n"
     ]
    }
   ],
   "source": [
    "history=lstm_model.fit(X,y,epochs=10,validation_split=0.3)"
   ]
  },
  {
   "cell_type": "code",
   "execution_count": 26,
   "metadata": {
    "colab": {
     "base_uri": "https://localhost:8080/",
     "height": 295
    },
    "id": "LQW4UZ4VxOQc",
    "outputId": "df4dec03-231d-48eb-8936-e348ebfa2f5a"
   },
   "outputs": [
    {
     "data": {
      "image/png": "[encoded data removed]",
      "text/plain": [
       "<Figure size 432x288 with 1 Axes>"
      ]
     },
     "metadata": {
      "needs_background": "light"
     },
     "output_type": "display_data"
    }
   ],
   "source": [
    "accuracy = history.history['val_loss']\n",
    "epochs = range(1,11)\n",
    "plt.plot(epochs, accuracy)\n",
    "plt.title('Val_Loss vs Epochs')\n",
    "plt.xlabel('Epochs')\n",
    "plt.ylabel('Val_Loss')\n",
    "plt.show()"
   ]
  },
  {
   "cell_type": "code",
   "execution_count": 27,
   "metadata": {
    "id": "x4bOlLyjrnRm"
   },
   "outputs": [],
   "source": [
    "def generate_text_sequence(model,input_text,num):\n",
    "  ans_text=[]\n",
    "  for i in range(num):\n",
    "    encoded=tokenizer.texts_to_sequences([input_text])[0]\n",
    "    encoded=pad_sequences([encoded],maxlen=seq_length,truncating='pre')\n",
    "    y_pred=np.argmax(model.predict(encoded))\n",
    "    pred_word=''\n",
    "    for word,index in tokenizer.word_index.items():\n",
    "      if index==y_pred:\n",
    "        pred_word=word\n",
    "        break\n",
    "    input_text=input_text+' '+pred_word\n",
    "    ans_text.append(pred_word)\n",
    "  return ' '.join(ans_text)"
   ]
  },
  {
   "cell_type": "code",
   "execution_count": 28,
   "metadata": {
    "id": "JjHBu7ffvG3W"
   },
   "outputs": [],
   "source": [
    "seed_text=\"while many of the risks\"\n",
    "generated_text=generate_text_sequence(lstm_model,seed_text,5)"
   ]
  },
  {
   "cell_type": "code",
   "execution_count": 29,
   "metadata": {
    "colab": {
     "base_uri": "https://localhost:8080/"
    },
    "id": "_mbYsVNzvYa8",
    "outputId": "31058b78-a075-4fe9-8b77-714bcd25f5c3"
   },
   "outputs": [
    {
     "name": "stdout",
     "output_type": "stream",
     "text": [
      "seed text: while many of the risks\n",
      "Text generated using single LSTM Layer:\n",
      "were anticipated when cray research\n"
     ]
    }
   ],
   "source": [
    "print(\"seed text:\",seed_text)\n",
    "print(\"Text generated using single LSTM Layer:\")\n",
    "print(generated_text)"
   ]
  },
  {
   "cell_type": "markdown",
   "metadata": {
    "id": "gDDomuxDDj-O"
   },
   "source": [
    "### 5. Multi Layer LSTM Model"
   ]
  },
  {
   "cell_type": "code",
   "execution_count": 30,
   "metadata": {
    "id": "D-TPt8ocD6OB"
   },
   "outputs": [],
   "source": [
    "lstm_multi_model=Sequential()\n",
    "lstm_multi_model.add(Embedding(vocab_size,1000,input_length=seq_length))\n",
    "lstm_multi_model.add(LSTM(500,return_sequences=True))\n",
    "lstm_multi_model.add(Dropout(0.4))\n",
    "lstm_multi_model.add(LSTM(500))\n",
    "lstm_multi_model.add(Dense(vocab_size,activation='softmax'))"
   ]
  },
  {
   "cell_type": "code",
   "execution_count": 31,
   "metadata": {
    "colab": {
     "base_uri": "https://localhost:8080/"
    },
    "id": "V70laFkQEf46",
    "outputId": "5f0752b2-516e-4e08-b6e0-478e71aaaedd"
   },
   "outputs": [
    {
     "name": "stdout",
     "output_type": "stream",
     "text": [
      "Model: \"sequential_1\"\n",
      "_________________________________________________________________\n",
      " Layer (type)                Output Shape              Param #   \n",
      "=================================================================\n",
      " embedding_1 (Embedding)     (None, 4, 1000)           6958000   \n",
      "                                                                 \n",
      " lstm_1 (LSTM)               (None, 4, 500)            3002000   \n",
      "                                                                 \n",
      " dropout (Dropout)           (None, 4, 500)            0         \n",
      "                                                                 \n",
      " lstm_2 (LSTM)               (None, 500)               2002000   \n",
      "                                                                 \n",
      " dense_1 (Dense)             (None, 6958)              3485958   \n",
      "                                                                 \n",
      "=================================================================\n",
      "Total params: 15,447,958\n",
      "Trainable params: 15,447,958\n",
      "Non-trainable params: 0\n",
      "_________________________________________________________________\n"
     ]
    }
   ],
   "source": [
    "lstm_multi_model.summary()"
   ]
  },
  {
   "cell_type": "code",
   "execution_count": 32,
   "metadata": {
    "id": "wnhGR5dsEhu_"
   },
   "outputs": [],
   "source": [
    "lstm_multi_model.compile(loss='categorical_crossentropy',optimizer='adam',metrics=['accuracy'])"
   ]
  },
  {
   "cell_type": "code",
   "execution_count": 33,
   "metadata": {
    "colab": {
     "base_uri": "https://localhost:8080/"
    },
    "id": "EAB5BMKwEnHg",
    "outputId": "ad439bfe-80cf-4f93-aebd-efa81a7285d9"
   },
   "outputs": [
    {
     "name": "stdout",
     "output_type": "stream",
     "text": [
      "Epoch 1/10\n",
      "2071/2071 [==============================] - 71s 32ms/step - loss: 6.7752 - accuracy: 0.0791 - val_loss: 6.5945 - val_accuracy: 0.1003\n",
      "Epoch 2/10\n",
      "2071/2071 [==============================] - 65s 32ms/step - loss: 6.0909 - accuracy: 0.1162 - val_loss: 6.4485 - val_accuracy: 0.1268\n",
      "Epoch 3/10\n",
      "2071/2071 [==============================] - 65s 32ms/step - loss: 5.6265 - accuracy: 0.1409 - val_loss: 6.4899 - val_accuracy: 0.1355\n",
      "Epoch 4/10\n",
      "2071/2071 [==============================] - 65s 32ms/step - loss: 5.1763 - accuracy: 0.1627 - val_loss: 6.6248 - val_accuracy: 0.1411\n",
      "Epoch 5/10\n",
      "2071/2071 [==============================] - 65s 32ms/step - loss: 4.6908 - accuracy: 0.1880 - val_loss: 6.8707 - val_accuracy: 0.1398\n",
      "Epoch 6/10\n",
      "2071/2071 [==============================] - 66s 32ms/step - loss: 4.1737 - accuracy: 0.2226 - val_loss: 7.1833 - val_accuracy: 0.1355\n",
      "Epoch 7/10\n",
      "2071/2071 [==============================] - 65s 32ms/step - loss: 3.6614 - accuracy: 0.2756 - val_loss: 7.5142 - val_accuracy: 0.1331\n",
      "Epoch 8/10\n",
      "2071/2071 [==============================] - 66s 32ms/step - loss: 3.1905 - accuracy: 0.3399 - val_loss: 7.8195 - val_accuracy: 0.1290\n",
      "Epoch 9/10\n",
      "2071/2071 [==============================] - 66s 32ms/step - loss: 2.7707 - accuracy: 0.4031 - val_loss: 8.1325 - val_accuracy: 0.1265\n",
      "Epoch 10/10\n",
      "2071/2071 [==============================] - 65s 32ms/step - loss: 2.4039 - accuracy: 0.4656 - val_loss: 8.3972 - val_accuracy: 0.1273\n"
     ]
    }
   ],
   "source": [
    "history=lstm_multi_model.fit(X,y,epochs=10,validation_split=0.3)"
   ]
  },
  {
   "cell_type": "code",
   "execution_count": 34,
   "metadata": {
    "colab": {
     "base_uri": "https://localhost:8080/",
     "height": 295
    },
    "id": "M0U0E5I6Eq4z",
    "outputId": "438f4921-0bed-49a7-e868-0b87c4314d5a"
   },
   "outputs": [
    {
     "data": {
      "image/png": "[encoded data removed]",
      "text/plain": [
       "<Figure size 432x288 with 1 Axes>"
      ]
     },
     "metadata": {
      "needs_background": "light"
     },
     "output_type": "display_data"
    }
   ],
   "source": [
    "accuracy = history.history['val_loss']\n",
    "epochs = range(1,11)\n",
    "plt.plot(epochs, accuracy)\n",
    "plt.title('Val_Loss vs Epochs')\n",
    "plt.xlabel('Epochs')\n",
    "plt.ylabel('Val_Loss')\n",
    "plt.show()"
   ]
  },
  {
   "cell_type": "code",
   "execution_count": 35,
   "metadata": {
    "id": "pn30hBM0FKRv"
   },
   "outputs": [],
   "source": [
    "seed_text=\"while many of the risks\"\n",
    "generated_text=generate_text_sequence(lstm_multi_model,seed_text,5)"
   ]
  },
  {
   "cell_type": "code",
   "execution_count": 36,
   "metadata": {
    "colab": {
     "base_uri": "https://localhost:8080/"
    },
    "id": "VrsPGdUDG3QG",
    "outputId": "c809ac48-75f9-4207-8a5f-8e9188687fa2"
   },
   "outputs": [
    {
     "name": "stdout",
     "output_type": "stream",
     "text": [
      "seed text: while many of the risks\n",
      "Text generated using Multi Layer LSTM:\n",
      "and though the furor die\n"
     ]
    }
   ],
   "source": [
    "print(\"seed text:\",seed_text)\n",
    "print(\"Text generated using Multi Layer LSTM:\")\n",
    "print(generated_text)"
   ]
  },
  {
   "cell_type": "markdown",
   "metadata": {
    "id": "XztKbjMeMEO7"
   },
   "source": [
    "### 6. Multi Layer With Regularisation"
   ]
  },
  {
   "cell_type": "code",
   "execution_count": 37,
   "metadata": {
    "id": "jkPi__srMM2X"
   },
   "outputs": [],
   "source": [
    "reg_mlstm_model=Sequential()\n",
    "reg_mlstm_model.add(Embedding(vocab_size,100,input_length=seq_length))\n",
    "reg_mlstm_model.add(LSTM(500,return_sequences=True))\n",
    "reg_mlstm_model.add(GaussianNoise(0.075))\n",
    "reg_mlstm_model.add(LSTM(500))\n",
    "reg_mlstm_model.add(Dense(vocab_size,activation='softmax'))\n"
   ]
  },
  {
   "cell_type": "code",
   "execution_count": 38,
   "metadata": {
    "colab": {
     "base_uri": "https://localhost:8080/"
    },
    "id": "wr-0RDMfNNGP",
    "outputId": "5f7f4ec7-ee07-4a6e-fc6b-340a01a14a2c"
   },
   "outputs": [
    {
     "name": "stdout",
     "output_type": "stream",
     "text": [
      "Model: \"sequential_2\"\n",
      "_________________________________________________________________\n",
      " Layer (type)                Output Shape              Param #   \n",
      "=================================================================\n",
      " embedding_2 (Embedding)     (None, 4, 100)            695800    \n",
      "                                                                 \n",
      " lstm_3 (LSTM)               (None, 4, 500)            1202000   \n",
      "                                                                 \n",
      " gaussian_noise (GaussianNoi  (None, 4, 500)           0         \n",
      " se)                                                             \n",
      "                                                                 \n",
      " lstm_4 (LSTM)               (None, 500)               2002000   \n",
      "                                                                 \n",
      " dense_2 (Dense)             (None, 6958)              3485958   \n",
      "                                                                 \n",
      "=================================================================\n",
      "Total params: 7,385,758\n",
      "Trainable params: 7,385,758\n",
      "Non-trainable params: 0\n",
      "_________________________________________________________________\n"
     ]
    }
   ],
   "source": [
    "reg_mlstm_model.summary()"
   ]
  },
  {
   "cell_type": "code",
   "execution_count": 39,
   "metadata": {
    "colab": {
     "base_uri": "https://localhost:8080/"
    },
    "id": "xPoLF5mhNSZg",
    "outputId": "42484f5e-e27e-4aef-c1c1-f7e944e64558"
   },
   "outputs": [
    {
     "name": "stderr",
     "output_type": "stream",
     "text": [
      "/usr/local/lib/python3.7/dist-packages/keras/optimizer_v2/gradient_descent.py:102: UserWarning: The `lr` argument is deprecated, use `learning_rate` instead.\n",
      "  super(SGD, self).__init__(name, **kwargs)\n"
     ]
    }
   ],
   "source": [
    "reg_mlstm_model.compile(loss='categorical_crossentropy',optimizer=keras.optimizers.SGD(lr=0.0001,momentum=0.99),metrics=['accuracy'])"
   ]
  },
  {
   "cell_type": "code",
   "execution_count": 40,
   "metadata": {
    "colab": {
     "base_uri": "https://localhost:8080/"
    },
    "id": "5nhl29WvNauR",
    "outputId": "152c9cf8-850a-4315-b709-52f6dfe5e2b0"
   },
   "outputs": [
    {
     "name": "stdout",
     "output_type": "stream",
     "text": [
      "Epoch 1/20\n",
      "2367/2367 [==============================] - 55s 22ms/step - loss: 8.7347 - accuracy: 0.0598 - val_loss: 8.5821 - val_accuracy: 0.0661\n",
      "Epoch 2/20\n",
      "2367/2367 [==============================] - 50s 21ms/step - loss: 8.1348 - accuracy: 0.0620 - val_loss: 7.4676 - val_accuracy: 0.0661\n",
      "Epoch 3/20\n",
      "2367/2367 [==============================] - 50s 21ms/step - loss: 7.2400 - accuracy: 0.0620 - val_loss: 7.0060 - val_accuracy: 0.0661\n",
      "Epoch 4/20\n",
      "2367/2367 [==============================] - 50s 21ms/step - loss: 6.9522 - accuracy: 0.0620 - val_loss: 6.8744 - val_accuracy: 0.0661\n",
      "Epoch 5/20\n",
      "2367/2367 [==============================] - 50s 21ms/step - loss: 6.8435 - accuracy: 0.0620 - val_loss: 6.8301 - val_accuracy: 0.0661\n",
      "Epoch 6/20\n",
      "2367/2367 [==============================] - 50s 21ms/step - loss: 6.7942 - accuracy: 0.0620 - val_loss: 6.8156 - val_accuracy: 0.0661\n",
      "Epoch 7/20\n",
      "2367/2367 [==============================] - 50s 21ms/step - loss: 6.7689 - accuracy: 0.0620 - val_loss: 6.8069 - val_accuracy: 0.0661\n",
      "Epoch 8/20\n",
      "2367/2367 [==============================] - 50s 21ms/step - loss: 6.7551 - accuracy: 0.0620 - val_loss: 6.8107 - val_accuracy: 0.0661\n",
      "Epoch 9/20\n",
      "2367/2367 [==============================] - 50s 21ms/step - loss: 6.7470 - accuracy: 0.0620 - val_loss: 6.8086 - val_accuracy: 0.0661\n",
      "Epoch 10/20\n",
      "2367/2367 [==============================] - 50s 21ms/step - loss: 6.7419 - accuracy: 0.0617 - val_loss: 6.8140 - val_accuracy: 0.0661\n",
      "Epoch 11/20\n",
      "2367/2367 [==============================] - 50s 21ms/step - loss: 6.7385 - accuracy: 0.0620 - val_loss: 6.8168 - val_accuracy: 0.0661\n",
      "Epoch 12/20\n",
      "2367/2367 [==============================] - 50s 21ms/step - loss: 6.7365 - accuracy: 0.0620 - val_loss: 6.8228 - val_accuracy: 0.0661\n",
      "Epoch 13/20\n",
      "2367/2367 [==============================] - 50s 21ms/step - loss: 6.7336 - accuracy: 0.0620 - val_loss: 6.8263 - val_accuracy: 0.0661\n",
      "Epoch 14/20\n",
      "2367/2367 [==============================] - 49s 21ms/step - loss: 6.7328 - accuracy: 0.0620 - val_loss: 6.8274 - val_accuracy: 0.0661\n",
      "Epoch 15/20\n",
      "2367/2367 [==============================] - 50s 21ms/step - loss: 6.7319 - accuracy: 0.0620 - val_loss: 6.8316 - val_accuracy: 0.0661\n",
      "Epoch 16/20\n",
      "2367/2367 [==============================] - 50s 21ms/step - loss: 6.7306 - accuracy: 0.0620 - val_loss: 6.8295 - val_accuracy: 0.0661\n",
      "Epoch 17/20\n",
      "2367/2367 [==============================] - 51s 21ms/step - loss: 6.7293 - accuracy: 0.0620 - val_loss: 6.8361 - val_accuracy: 0.0661\n",
      "Epoch 18/20\n",
      "2367/2367 [==============================] - 50s 21ms/step - loss: 6.7285 - accuracy: 0.0620 - val_loss: 6.8395 - val_accuracy: 0.0661\n",
      "Epoch 19/20\n",
      "2367/2367 [==============================] - 50s 21ms/step - loss: 6.7282 - accuracy: 0.0620 - val_loss: 6.8431 - val_accuracy: 0.0661\n",
      "Epoch 20/20\n",
      "2367/2367 [==============================] - 54s 23ms/step - loss: 6.7281 - accuracy: 0.0620 - val_loss: 6.8400 - val_accuracy: 0.0661\n"
     ]
    }
   ],
   "source": [
    "history=reg_mlstm_model.fit(X,y,epochs=20,validation_split=0.2)"
   ]
  },
  {
   "cell_type": "code",
   "execution_count": 42,
   "metadata": {
    "colab": {
     "base_uri": "https://localhost:8080/",
     "height": 295
    },
    "id": "7fI0IZMiNdUW",
    "outputId": "e98edc47-dd5f-4543-d338-dbf4593e851d"
   },
   "outputs": [
    {
     "data": {
      "image/png": "[encoded data removed]",
      "text/plain": [
       "<Figure size 432x288 with 1 Axes>"
      ]
     },
     "metadata": {
      "needs_background": "light"
     },
     "output_type": "display_data"
    }
   ],
   "source": [
    "accuracy = history.history['val_loss']\n",
    "epochs = range(1,21)\n",
    "plt.plot(epochs, accuracy)\n",
    "plt.title('Val_Loss vs Epochs')\n",
    "plt.xlabel('Epochs')\n",
    "plt.ylabel('Val_Loss')\n",
    "plt.show()"
   ]
  },
  {
   "cell_type": "code",
   "execution_count": 43,
   "metadata": {
    "id": "f9TB3VnxNfIZ"
   },
   "outputs": [],
   "source": [
    "seed_text=\"while many of the risks\"\n",
    "generated_text=generate_text_sequence(reg_mlstm_model,seed_text,5)"
   ]
  },
  {
   "cell_type": "code",
   "execution_count": 44,
   "metadata": {
    "colab": {
     "base_uri": "https://localhost:8080/"
    },
    "id": "io7w--TANhC0",
    "outputId": "b00cf1d9-802e-44fb-f0d3-8ff6f7296666"
   },
   "outputs": [
    {
     "name": "stdout",
     "output_type": "stream",
     "text": [
      "seed text: while many of the risks\n",
      "Text generated using Multi Layer LSTM With Regularisation:\n",
      "the the the the the\n"
     ]
    }
   ],
   "source": [
    "print(\"seed text:\",seed_text)\n",
    "print(\"Text generated using Multi Layer LSTM With Regularisation:\")\n",
    "print(generated_text)"
   ]
  }
 ],
 "metadata": {
  "accelerator": "GPU",
  "colab": {
   "collapsed_sections": [],
   "name": "word_generation_LSTM.ipynb",
   "provenance": []
  },
  "kernelspec": {
   "display_name": "Python 3 (ipykernel)",
   "language": "python",
   "name": "python3"
  },
  "language_info": {
   "codemirror_mode": {
    "name": "ipython",
    "version": 3
   },
   "file_extension": ".py",
   "mimetype": "text/x-python",
   "name": "python",
   "nbconvert_exporter": "python",
   "pygments_lexer": "ipython3",
   "version": "3.8.10"
  }
 },
 "nbformat": 4,
 "nbformat_minor": 1
}

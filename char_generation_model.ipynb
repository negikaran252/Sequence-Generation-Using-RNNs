{
 "cells": [
  {
   "cell_type": "markdown",
   "metadata": {
    "id": "N7qbuZIdjzNs"
   },
   "source": [
    "**Import Necessary Libraries**"
   ]
  },
  {
   "cell_type": "code",
   "execution_count": 1,
   "metadata": {
    "colab": {
     "base_uri": "https://localhost:8080/"
    },
    "id": "UdHxwGubjPwg",
    "outputId": "239a06be-a3f6-4f18-d3cb-c8a01c647169"
   },
   "outputs": [
    {
     "name": "stdout",
     "output_type": "stream",
     "text": [
      "Requirement already satisfied: nltk in /usr/local/lib/python3.7/dist-packages (3.2.5)\n",
      "Requirement already satisfied: six in /usr/local/lib/python3.7/dist-packages (from nltk) (1.15.0)\n",
      "[nltk_data] Downloading package punkt to /root/nltk_data...\n",
      "[nltk_data]   Unzipping tokenizers/punkt.zip.\n"
     ]
    },
    {
     "data": {
      "text/plain": [
       "True"
      ]
     },
     "execution_count": 1,
     "metadata": {},
     "output_type": "execute_result"
    }
   ],
   "source": [
    "# !pip install --upgrade treebank\n",
    "!pip install nltk\n",
    "import nltk\n",
    "nltk.download('punkt')"
   ]
  },
  {
   "cell_type": "code",
   "execution_count": 2,
   "metadata": {
    "id": "ox_vKXInjHcr"
   },
   "outputs": [],
   "source": [
    "import numpy as np\n",
    "import tensorflow as tf\n",
    "from tensorflow import keras\n",
    "from keras.models import Sequential\n",
    "from keras.layers import Dense\n",
    "from keras.layers import LSTM\n",
    "from keras.layers import Dropout\n",
    "from keras.layers import Embedding, GaussianNoise, SimpleRNN\n",
    "import matplotlib.pyplot as plt \n",
    "import string\n",
    "from keras.utils import np_utils\n",
    "from sklearn.metrics import accuracy_score\n",
    "from nltk.corpus import stopwords\n",
    "from nltk.tokenize import word_tokenize"
   ]
  },
  {
   "cell_type": "code",
   "execution_count": 3,
   "metadata": {
    "id": "x7xN58VBLqKG"
   },
   "outputs": [],
   "source": [
    "import sys"
   ]
  },
  {
   "cell_type": "markdown",
   "metadata": {
    "id": "3tiNMa71m-_P"
   },
   "source": [
    "**Input Data and Preprocessing**"
   ]
  },
  {
   "cell_type": "code",
   "execution_count": 4,
   "metadata": {
    "colab": {
     "base_uri": "https://localhost:8080/"
    },
    "id": "OSBmML7knHyp",
    "outputId": "c6cfd11c-0a60-4f53-ee76-c7a7ec2344ee"
   },
   "outputs": [
    {
     "data": {
      "text/plain": [
       "5101618"
      ]
     },
     "execution_count": 4,
     "metadata": {},
     "output_type": "execute_result"
    }
   ],
   "source": [
    "train_text = open('ptb.train.txt', 'r').read()\n",
    "val_text = open('ptb.valid.txt', 'r').read()\n",
    "len(val_text)\n",
    "len(train_text)"
   ]
  },
  {
   "cell_type": "code",
   "execution_count": 5,
   "metadata": {
    "id": "WaRthwNWrits"
   },
   "outputs": [],
   "source": [
    "def preprocess_data(data):\n",
    "  data=data.lower()\n",
    "  tokens = word_tokenize(data)\n",
    "  temp_data = [x for x in tokens if not x in {'>','<','\\n','unk'}]\n",
    "  temp_char=\" \"\n",
    "  processed_data=temp_char.join(temp_data)\n",
    "  return processed_data"
   ]
  },
  {
   "cell_type": "code",
   "execution_count": 6,
   "metadata": {
    "id": "VghydjmDsXKK"
   },
   "outputs": [],
   "source": [
    "final_train_text=preprocess_data(train_text[:250000])\n",
    "final_val_text=preprocess_data(val_text)"
   ]
  },
  {
   "cell_type": "code",
   "execution_count": 7,
   "metadata": {
    "id": "v_9sF3FLtLUJ"
   },
   "outputs": [],
   "source": [
    "chars=sorted(list(set(final_train_text+final_val_text)))"
   ]
  },
  {
   "cell_type": "code",
   "execution_count": 8,
   "metadata": {
    "id": "6VAdXqJ-pTBv"
   },
   "outputs": [],
   "source": [
    "#char-int and int-char mapping\n",
    "char_to_int={char:i for i,char in enumerate(chars)}\n",
    "int_to_char={i:char for i,char in enumerate(chars)}  "
   ]
  },
  {
   "cell_type": "markdown",
   "metadata": {
    "id": "stlUhQADwR_G"
   },
   "source": [
    "**Create Input-Output lists**"
   ]
  },
  {
   "cell_type": "code",
   "execution_count": 9,
   "metadata": {
    "id": "rimZUdUMu-Vw"
   },
   "outputs": [],
   "source": [
    "window_length=100"
   ]
  },
  {
   "cell_type": "code",
   "execution_count": 10,
   "metadata": {
    "id": "66hrI_24wYR8"
   },
   "outputs": [],
   "source": [
    "def create_io(data_final,sw):\n",
    "  X1=[]\n",
    "  Y1=[]\n",
    "  sliding_window=sw\n",
    "  n=len(data_final)-sliding_window\n",
    "  for i in range(0,n,1):\n",
    "      input_seq = data_final[i:i+sliding_window]\n",
    "      output_seq = data_final[i+sliding_window]\n",
    "      X1.append([char_to_int[char] for char in input_seq])\n",
    "      Y1.append(char_to_int[output_seq])\n",
    "  return X1,Y1"
   ]
  },
  {
   "cell_type": "code",
   "execution_count": 11,
   "metadata": {
    "id": "zyfBpG5CuQwS"
   },
   "outputs": [],
   "source": [
    "X_train,Y_train=create_io(final_train_text,window_length)"
   ]
  },
  {
   "cell_type": "code",
   "execution_count": 12,
   "metadata": {
    "id": "1HMxLYAAzi1q"
   },
   "outputs": [],
   "source": [
    "X_val,Y_val=create_io(final_val_text,window_length)"
   ]
  },
  {
   "cell_type": "code",
   "execution_count": 13,
   "metadata": {
    "id": "6iMw2Htcxj9w"
   },
   "outputs": [],
   "source": [
    "X_t = np.reshape(X_train, (len(X_train), window_length, 1))/float(len(chars))\n",
    "y_t = np_utils.to_categorical(Y_train)"
   ]
  },
  {
   "cell_type": "code",
   "execution_count": 14,
   "metadata": {
    "id": "QHwCCiW4vkcY"
   },
   "outputs": [],
   "source": [
    "X_v = np.reshape(X_val, (len(X_val), window_length, 1))/float(len(chars))\n",
    "y_v = np_utils.to_categorical(Y_val)"
   ]
  },
  {
   "cell_type": "markdown",
   "metadata": {
    "id": "UewTzfZoHj4S"
   },
   "source": [
    "**Single Layer RNN**"
   ]
  },
  {
   "cell_type": "code",
   "execution_count": null,
   "metadata": {
    "id": "_kXNtImzHor8"
   },
   "outputs": [],
   "source": [
    "model1 = Sequential()\n",
    "model1.add(SimpleRNN(128, input_shape=(X_t.shape[1], X_t.shape[2])))\n",
    "model1.add(Dense(y_t.shape[1], activation='softmax'))\n",
    "model1.compile(loss='categorical_crossentropy', optimizer='adam',metrics = ['accuracy'])"
   ]
  },
  {
   "cell_type": "code",
   "execution_count": null,
   "metadata": {
    "colab": {
     "base_uri": "https://localhost:8080/"
    },
    "id": "2XUERvl4ILZp",
    "outputId": "3b062750-df78-4e2e-9783-5a35a8b82d10"
   },
   "outputs": [
    {
     "name": "stdout",
     "output_type": "stream",
     "text": [
      "Epoch 1/10\n",
      "1805/1805 [==============================] - 206s 114ms/step - loss: 2.7407 - accuracy: 0.2182 - val_loss: 2.7115 - val_accuracy: 0.2296\n",
      "Epoch 2/10\n",
      "1805/1805 [==============================] - 198s 110ms/step - loss: 2.6732 - accuracy: 0.2323 - val_loss: 2.6771 - val_accuracy: 0.2286\n",
      "Epoch 3/10\n",
      "1805/1805 [==============================] - 195s 108ms/step - loss: 2.6269 - accuracy: 0.2400 - val_loss: 2.6069 - val_accuracy: 0.2414\n",
      "Epoch 4/10\n",
      "1805/1805 [==============================] - 195s 108ms/step - loss: 2.5877 - accuracy: 0.2439 - val_loss: 2.5732 - val_accuracy: 0.2477\n",
      "Epoch 5/10\n",
      "1805/1805 [==============================] - 200s 111ms/step - loss: 2.5572 - accuracy: 0.2483 - val_loss: 2.5571 - val_accuracy: 0.2528\n",
      "Epoch 6/10\n",
      "1805/1805 [==============================] - 200s 111ms/step - loss: 2.5330 - accuracy: 0.2547 - val_loss: 2.5263 - val_accuracy: 0.2584\n",
      "Epoch 7/10\n",
      "1805/1805 [==============================] - 197s 109ms/step - loss: 2.5102 - accuracy: 0.2602 - val_loss: 2.5245 - val_accuracy: 0.2623\n",
      "Epoch 8/10\n",
      "1805/1805 [==============================] - 193s 107ms/step - loss: 2.4908 - accuracy: 0.2654 - val_loss: 2.5060 - val_accuracy: 0.2654\n",
      "Epoch 9/10\n",
      "1805/1805 [==============================] - 191s 106ms/step - loss: 2.4722 - accuracy: 0.2715 - val_loss: 2.4898 - val_accuracy: 0.2700\n",
      "Epoch 10/10\n",
      "1805/1805 [==============================] - 199s 110ms/step - loss: 2.4545 - accuracy: 0.2754 - val_loss: 2.4935 - val_accuracy: 0.2703\n"
     ]
    }
   ],
   "source": [
    "history1 = model1.fit(X_t, y_t, epochs=10,validation_data=(X_v,y_v),batch_size=128)"
   ]
  },
  {
   "cell_type": "code",
   "execution_count": null,
   "metadata": {
    "colab": {
     "base_uri": "https://localhost:8080/",
     "height": 295
    },
    "id": "rEEVL1clIThu",
    "outputId": "0669a469-01d6-4661-ae40-da2fd9ac697d"
   },
   "outputs": [
    {
     "data": {
      "image/png": "[encoded data removed]",
      "text/plain": [
       "<Figure size 432x288 with 1 Axes>"
      ]
     },
     "metadata": {
      "needs_background": "light"
     },
     "output_type": "display_data"
    }
   ],
   "source": [
    "accuracy = history1.history['val_accuracy']\n",
    "epochs = range(1,11)\n",
    "plt.plot(epochs, accuracy)\n",
    "plt.title('Val_Accuracy vs Epochs')\n",
    "plt.xlabel('Epochs')\n",
    "plt.ylabel('Val_Accuracy')\n",
    "plt.show()"
   ]
  },
  {
   "cell_type": "markdown",
   "metadata": {
    "id": "CUqmPhAg1ZyE"
   },
   "source": [
    "**Single Layer LSTM Model**"
   ]
  },
  {
   "cell_type": "code",
   "execution_count": null,
   "metadata": {
    "id": "OF8aXmAP15Fn"
   },
   "outputs": [],
   "source": [
    "model2 = Sequential()\n",
    "model2.add(LSTM(128, input_shape=(X_t.shape[1], X_t.shape[2])))\n",
    "model2.add(Dense(y_t.shape[1], activation='softmax'))\n",
    "model2.compile(loss='categorical_crossentropy', optimizer='adam',metrics = ['accuracy'])"
   ]
  },
  {
   "cell_type": "code",
   "execution_count": null,
   "metadata": {
    "colab": {
     "base_uri": "https://localhost:8080/"
    },
    "id": "Z9ZEDERC2PW_",
    "outputId": "03d192c9-46c5-4805-955d-1056f0dfc01b"
   },
   "outputs": [
    {
     "name": "stdout",
     "output_type": "stream",
     "text": [
      "Epoch 1/10\n",
      "1805/1805 [==============================] - 767s 424ms/step - loss: 2.8217 - accuracy: 0.1975 - val_loss: 2.7368 - val_accuracy: 0.2158\n",
      "Epoch 2/10\n",
      "1805/1805 [==============================] - 769s 426ms/step - loss: 2.7031 - accuracy: 0.2259 - val_loss: 2.6699 - val_accuracy: 0.2351\n",
      "Epoch 3/10\n",
      "1805/1805 [==============================] - 735s 407ms/step - loss: 2.6479 - accuracy: 0.2356 - val_loss: 2.6248 - val_accuracy: 0.2396\n",
      "Epoch 4/10\n",
      "1805/1805 [==============================] - 717s 397ms/step - loss: 2.6104 - accuracy: 0.2403 - val_loss: 2.5907 - val_accuracy: 0.2467\n",
      "Epoch 5/10\n",
      "1805/1805 [==============================] - 722s 400ms/step - loss: 2.5828 - accuracy: 0.2450 - val_loss: 2.5736 - val_accuracy: 0.2488\n",
      "Epoch 6/10\n",
      "1805/1805 [==============================] - 720s 399ms/step - loss: 2.5612 - accuracy: 0.2485 - val_loss: 2.5511 - val_accuracy: 0.2557\n",
      "Epoch 7/10\n",
      "1805/1805 [==============================] - 724s 401ms/step - loss: 2.5424 - accuracy: 0.2530 - val_loss: 2.5343 - val_accuracy: 0.2568\n",
      "Epoch 8/10\n",
      "1805/1805 [==============================] - 723s 401ms/step - loss: 2.5255 - accuracy: 0.2560 - val_loss: 2.5227 - val_accuracy: 0.2566\n",
      "Epoch 9/10\n",
      "1805/1805 [==============================] - 722s 400ms/step - loss: 2.5092 - accuracy: 0.2595 - val_loss: 2.5083 - val_accuracy: 0.2616\n",
      "Epoch 10/10\n",
      "1805/1805 [==============================] - 718s 398ms/step - loss: 2.4934 - accuracy: 0.2637 - val_loss: 2.4984 - val_accuracy: 0.2651\n"
     ]
    }
   ],
   "source": [
    "history2 = model2.fit(X_t, y_t, epochs=10,validation_data=(X_v,y_v),batch_size=128)"
   ]
  },
  {
   "cell_type": "code",
   "execution_count": null,
   "metadata": {
    "colab": {
     "base_uri": "https://localhost:8080/",
     "height": 295
    },
    "id": "3wEMkPpW2Tjb",
    "outputId": "dd57e2a9-34e5-407f-c3da-5719765f7641"
   },
   "outputs": [
    {
     "data": {
      "image/png": "[encoded data removed]",
      "text/plain": [
       "<Figure size 432x288 with 1 Axes>"
      ]
     },
     "metadata": {
      "needs_background": "light"
     },
     "output_type": "display_data"
    }
   ],
   "source": [
    "accuracy = history2.history['val_accuracy']\n",
    "epochs = range(1,11)\n",
    "plt.plot(epochs, accuracy)\n",
    "plt.title('Val_Accuracy vs Epochs')\n",
    "plt.xlabel('Epochs')\n",
    "plt.ylabel('Val_Accuracy')\n",
    "plt.show()"
   ]
  },
  {
   "cell_type": "markdown",
   "metadata": {
    "id": "XXexPE1Xxb11"
   },
   "source": [
    "**Single Layer LSTM with Gaussian Noise**\n"
   ]
  },
  {
   "cell_type": "code",
   "execution_count": null,
   "metadata": {
    "id": "IHYtH7pIxbfO"
   },
   "outputs": [],
   "source": [
    "model3 = Sequential()\n",
    "model3.add(LSTM(128, input_shape=(X_t.shape[1], X_t.shape[2])))\n",
    "model3.add(GaussianNoise(0.075))\n",
    "model3.add(Dense(y_t.shape[1], activation='softmax'))\n",
    "model3.compile(loss='categorical_crossentropy', optimizer='adam',metrics = ['accuracy'])"
   ]
  },
  {
   "cell_type": "code",
   "execution_count": null,
   "metadata": {
    "colab": {
     "base_uri": "https://localhost:8080/"
    },
    "id": "a6QFSbhdxlG1",
    "outputId": "887f56cf-17fa-4e54-e078-b86f3e1c167b"
   },
   "outputs": [
    {
     "name": "stdout",
     "output_type": "stream",
     "text": [
      "Epoch 1/10\n",
      "1805/1805 [==============================] - 736s 407ms/step - loss: 2.8381 - accuracy: 0.1927 - val_loss: 2.7558 - val_accuracy: 0.2062\n",
      "Epoch 2/10\n",
      "1805/1805 [==============================] - 727s 403ms/step - loss: 2.7225 - accuracy: 0.2198 - val_loss: 2.6931 - val_accuracy: 0.2285\n",
      "Epoch 3/10\n",
      "1805/1805 [==============================] - 728s 403ms/step - loss: 2.6693 - accuracy: 0.2301 - val_loss: 2.6381 - val_accuracy: 0.2378\n",
      "Epoch 4/10\n",
      "1805/1805 [==============================] - 726s 402ms/step - loss: 2.6329 - accuracy: 0.2353 - val_loss: 2.6104 - val_accuracy: 0.2414\n",
      "Epoch 5/10\n",
      "1805/1805 [==============================] - 717s 397ms/step - loss: 2.6079 - accuracy: 0.2399 - val_loss: 2.5833 - val_accuracy: 0.2461\n",
      "Epoch 6/10\n",
      "1805/1805 [==============================] - 717s 397ms/step - loss: 2.5898 - accuracy: 0.2425 - val_loss: 2.5686 - val_accuracy: 0.2483\n",
      "Epoch 7/10\n",
      "1805/1805 [==============================] - 717s 397ms/step - loss: 2.5738 - accuracy: 0.2446 - val_loss: 2.5577 - val_accuracy: 0.2509\n",
      "Epoch 8/10\n",
      "1805/1805 [==============================] - 718s 398ms/step - loss: 2.5594 - accuracy: 0.2478 - val_loss: 2.5455 - val_accuracy: 0.2533\n",
      "Epoch 9/10\n",
      "1805/1805 [==============================] - 715s 396ms/step - loss: 2.5445 - accuracy: 0.2516 - val_loss: 2.5269 - val_accuracy: 0.2579\n",
      "Epoch 10/10\n",
      "1805/1805 [==============================] - 716s 397ms/step - loss: 2.5302 - accuracy: 0.2545 - val_loss: 2.5189 - val_accuracy: 0.2592\n"
     ]
    }
   ],
   "source": [
    "history3 = model3.fit(X_t, y_t, epochs=10,validation_data=(X_v,y_v),batch_size=128)"
   ]
  },
  {
   "cell_type": "code",
   "execution_count": null,
   "metadata": {
    "colab": {
     "base_uri": "https://localhost:8080/",
     "height": 295
    },
    "id": "_e-VRIIwxobD",
    "outputId": "edcee059-46eb-4b52-cca1-b4b46d66bcc9"
   },
   "outputs": [
    {
     "data": {
      "image/png": "[encoded data removed]",
      "text/plain": [
       "<Figure size 432x288 with 1 Axes>"
      ]
     },
     "metadata": {
      "needs_background": "light"
     },
     "output_type": "display_data"
    }
   ],
   "source": [
    "accuracy = history3.history['val_accuracy']\n",
    "epochs = range(1,11)\n",
    "plt.plot(epochs, accuracy)\n",
    "plt.title('Val_Accuracy vs Epochs')\n",
    "plt.xlabel('Epochs')\n",
    "plt.ylabel('Val_Accuracy')\n",
    "plt.show()"
   ]
  },
  {
   "cell_type": "markdown",
   "metadata": {
    "id": "0sJs5Y-4rCQv"
   },
   "source": [
    "**Multi Layer LSTM Model**"
   ]
  },
  {
   "cell_type": "code",
   "execution_count": 16,
   "metadata": {
    "id": "IzPY_BTMrId6"
   },
   "outputs": [],
   "source": [
    "model4 = Sequential()\n",
    "model4.add(LSTM(128, input_shape=(X_t.shape[1], X_t.shape[2]), return_sequences = True))\n",
    "model4.add(LSTM(128))\n",
    "model4.add(Dense(y_t.shape[1], activation='softmax'))\n",
    "model4.compile(loss='categorical_crossentropy', optimizer='adam',metrics = ['accuracy'])"
   ]
  },
  {
   "cell_type": "code",
   "execution_count": 17,
   "metadata": {
    "colab": {
     "base_uri": "https://localhost:8080/"
    },
    "id": "1LCiqcqVrYiD",
    "outputId": "e56de3c5-b0e1-4acc-bb6e-6aa7e3fc8589"
   },
   "outputs": [
    {
     "name": "stdout",
     "output_type": "stream",
     "text": [
      "Epoch 1/10\n",
      "1805/1805 [==============================] - 140s 73ms/step - loss: 2.7727 - accuracy: 0.2078 - val_loss: 2.6372 - val_accuracy: 0.2354\n",
      "Epoch 2/10\n",
      "1805/1805 [==============================] - 128s 71ms/step - loss: 2.5791 - accuracy: 0.2454 - val_loss: 2.5196 - val_accuracy: 0.2623\n",
      "Epoch 3/10\n",
      "1805/1805 [==============================] - 128s 71ms/step - loss: 2.4710 - accuracy: 0.2729 - val_loss: 2.4272 - val_accuracy: 0.2916\n",
      "Epoch 4/10\n",
      "1805/1805 [==============================] - 163s 90ms/step - loss: 2.3704 - accuracy: 0.3048 - val_loss: 2.3398 - val_accuracy: 0.3187\n",
      "Epoch 5/10\n",
      "1805/1805 [==============================] - 127s 71ms/step - loss: 2.2815 - accuracy: 0.3322 - val_loss: 2.2736 - val_accuracy: 0.3401\n",
      "Epoch 6/10\n",
      "1805/1805 [==============================] - 163s 91ms/step - loss: 2.2047 - accuracy: 0.3558 - val_loss: 2.2187 - val_accuracy: 0.3553\n",
      "Epoch 7/10\n",
      "1805/1805 [==============================] - 164s 91ms/step - loss: 2.1406 - accuracy: 0.3762 - val_loss: 2.1658 - val_accuracy: 0.3745\n",
      "Epoch 8/10\n",
      "1805/1805 [==============================] - 128s 71ms/step - loss: 2.0819 - accuracy: 0.3942 - val_loss: 2.1167 - val_accuracy: 0.3901\n",
      "Epoch 9/10\n",
      "1805/1805 [==============================] - 127s 71ms/step - loss: 2.0291 - accuracy: 0.4100 - val_loss: 2.0778 - val_accuracy: 0.4009\n",
      "Epoch 10/10\n",
      "1805/1805 [==============================] - 126s 70ms/step - loss: 1.9827 - accuracy: 0.4233 - val_loss: 2.0480 - val_accuracy: 0.4111\n"
     ]
    }
   ],
   "source": [
    "history4 = model4.fit(X_t, y_t, epochs=10,validation_data=(X_v,y_v),batch_size=128)"
   ]
  },
  {
   "cell_type": "code",
   "execution_count": 18,
   "metadata": {
    "colab": {
     "base_uri": "https://localhost:8080/",
     "height": 295
    },
    "id": "cQsjEvAKrZU5",
    "outputId": "9755e406-c2ae-4601-cf2e-93989ae66074"
   },
   "outputs": [
    {
     "data": {
      "image/png": "[encoded data removed]",
      "text/plain": [
       "<Figure size 432x288 with 1 Axes>"
      ]
     },
     "metadata": {
      "needs_background": "light"
     },
     "output_type": "display_data"
    }
   ],
   "source": [
    "accuracy = history4.history['val_accuracy']\n",
    "epochs = range(1,11)\n",
    "plt.plot(epochs, accuracy)\n",
    "plt.title('Val_Accuracy vs Epochs')\n",
    "plt.xlabel('Epochs')\n",
    "plt.ylabel('Val_Accuracy')\n",
    "plt.show()"
   ]
  },
  {
   "cell_type": "markdown",
   "metadata": {
    "id": "EgqnPdAiuQPh"
   },
   "source": [
    "**Predictions**"
   ]
  },
  {
   "cell_type": "code",
   "execution_count": 15,
   "metadata": {
    "id": "W3e3ouGTD-MV"
   },
   "outputs": [],
   "source": [
    "def Predict(seed_text,num_of_char,model):\n",
    "  x_test=[]\n",
    "  predicted_string=\"\"\n",
    "  seed_text=preprocess_data(seed_text)\n",
    "  seed_text=[char_to_int[char] for char in seed_text]\n",
    "  for i in range(num_of_char):\n",
    "    x = np.reshape(seed_text, (1, len(seed_text), 1))\n",
    "    x = x / float(len(chars))\n",
    "    prediction = model.predict(x, verbose=0)\n",
    "    index = np.argmax(prediction)\n",
    "    result = int_to_char[index]\n",
    "    predicted_string+= result\n",
    "    seed_text.append(index)\n",
    "    seed_text = seed_text[1:len(seed_text)]\n",
    "  return predicted_string\n"
   ]
  },
  {
   "cell_type": "code",
   "execution_count": null,
   "metadata": {
    "colab": {
     "base_uri": "https://localhost:8080/"
    },
    "id": "sbPVkO7ND2RB",
    "outputId": "a192ffe2-4091-40c8-b4ad-f19d52d142fe"
   },
   "outputs": [
    {
     "name": "stdout",
     "output_type": "stream",
     "text": [
      "Single Layer RNN Model\n",
      "Input:   journal of medicine a forum likely to bring new attention to the problem a said this is an old story\n",
      "Output:  ere the see cnd the see see see see see see see se\n"
     ]
    }
   ],
   "source": [
    "print(\"Single Layer RNN Model\")\n",
    "ans1=Predict(final_train_text[1000:1101],50,model1)\n",
    "print(\"Input: \",final_train_text[1000:1101])\n",
    "print(\"Output: \",ans1)"
   ]
  },
  {
   "cell_type": "code",
   "execution_count": null,
   "metadata": {
    "colab": {
     "base_uri": "https://localhost:8080/"
    },
    "id": "LAABqhMIJtZJ",
    "outputId": "1d7daa84-be35-48c0-dbbb-7d24fec39c3e"
   },
   "outputs": [
    {
     "name": "stdout",
     "output_type": "stream",
     "text": [
      "Single Layer LSTM Model\n",
      "Input:   journal of medicine a forum likely to bring new attention to the problem a said this is an old story\n",
      "Output:   to the sese the sese the sese the sese the sese t\n"
     ]
    }
   ],
   "source": [
    "print(\"Single Layer LSTM Model\")\n",
    "ans2=Predict(final_train_text[1000:1101],50,model2)\n",
    "print(\"Input: \",final_train_text[1000:1101])\n",
    "print(\"Output: \",ans2)"
   ]
  },
  {
   "cell_type": "code",
   "execution_count": null,
   "metadata": {
    "colab": {
     "base_uri": "https://localhost:8080/"
    },
    "id": "Lyouop6duX6n",
    "outputId": "055e0857-12cf-4244-a53c-2bcce093a4e1"
   },
   "outputs": [
    {
     "name": "stdout",
     "output_type": "stream",
     "text": [
      "Single Layer LSTM Model with weight noise\n",
      "Input:   journal of medicine a forum likely to bring new attention to the problem a said this is an old story\n",
      "Output:   and the cor the cor the cor the cor the cor the c\n"
     ]
    }
   ],
   "source": [
    "print(\"Single Layer LSTM Model with weight noise\")\n",
    "ans3=Predict(final_train_text[1000:1101],50,model3)\n",
    "print(\"Input: \",final_train_text[1000:1101])\n",
    "print(\"Output: \",ans3)"
   ]
  },
  {
   "cell_type": "code",
   "execution_count": 19,
   "metadata": {
    "colab": {
     "base_uri": "https://localhost:8080/"
    },
    "id": "PmMVQ-HMybmU",
    "outputId": "0d5746a4-30e6-487d-88a1-a503c3b6d8fe"
   },
   "outputs": [
    {
     "name": "stdout",
     "output_type": "stream",
     "text": [
      "Multi Layer LSTM Model\n",
      "Input:   journal of medicine a forum likely to bring new attention to the problem a said this is an old story\n",
      "Output:  ing a seareie and the company said the company sai\n"
     ]
    }
   ],
   "source": [
    "print(\"Multi Layer LSTM Model\")\n",
    "ans4=Predict(final_train_text[1000:1101],50,model4)\n",
    "print(\"Input: \",final_train_text[1000:1101])\n",
    "print(\"Output: \",ans4)"
   ]
  }
 ],
 "metadata": {
  "accelerator": "GPU",
  "colab": {
   "collapsed_sections": [],
   "name": "mycharlevellstm_1_1.ipynb",
   "provenance": []
  },
  "kernelspec": {
   "display_name": "Python 3 (ipykernel)",
   "language": "python",
   "name": "python3"
  },
  "language_info": {
   "codemirror_mode": {
    "name": "ipython",
    "version": 3
   },
   "file_extension": ".py",
   "mimetype": "text/x-python",
   "name": "python",
   "nbconvert_exporter": "python",
   "pygments_lexer": "ipython3",
   "version": "3.8.10"
  }
 },
 "nbformat": 4,
 "nbformat_minor": 1
}
